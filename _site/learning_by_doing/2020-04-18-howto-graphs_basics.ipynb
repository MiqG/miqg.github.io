{
 "cells": [
  {
   "cell_type": "markdown",
   "metadata": {},
   "source": [
    "# Basic graph operations with NetworkX\n",
    "[documentation](https://networkx.github.io/)"
   ]
  },
  {
   "cell_type": "code",
   "execution_count": 144,
   "metadata": {},
   "outputs": [],
   "source": [
    "import networkx as nx"
   ]
  },
  {
   "cell_type": "markdown",
   "metadata": {},
   "source": [
    "## Create and modify"
   ]
  },
  {
   "cell_type": "code",
   "execution_count": 145,
   "metadata": {},
   "outputs": [],
   "source": [
    "# start graph\n",
    "G = nx.Graph(A = 5)"
   ]
  },
  {
   "cell_type": "code",
   "execution_count": 146,
   "metadata": {},
   "outputs": [],
   "source": [
    "# add nodes\n",
    "## single node with attribute\n",
    "G.add_node(1, time='5pm')\n",
    "## list of nodes\n",
    "G.add_nodes_from([2, 3])\n",
    "## string of nodes\n",
    "G.add_nodes_from('networkx')"
   ]
  },
  {
   "cell_type": "code",
   "execution_count": 147,
   "metadata": {},
   "outputs": [],
   "source": [
    "# add edges\n",
    "## single\n",
    "G.add_edge(1, 2) # connect node 1 and node 2\n",
    "## multiple\n",
    "G.add_edges_from([(1,2), (1,3), ('n',3), ('x','n')])\n",
    "## edges with weight\n",
    "G.add_weighted_edges_from([(2,3, .65)])"
   ]
  },
  {
   "cell_type": "code",
   "execution_count": 148,
   "metadata": {},
   "outputs": [],
   "source": [
    "# remove\n",
    "## nodes\n",
    "G.remove_nodes_from('work')\n",
    "## edges\n",
    "G.remove_edges_from([('n','x')])"
   ]
  },
  {
   "cell_type": "markdown",
   "metadata": {},
   "source": [
    "## Subsetting and working with the class iterators"
   ]
  },
  {
   "cell_type": "code",
   "execution_count": 149,
   "metadata": {},
   "outputs": [
    {
     "name": "stdout",
     "output_type": "stream",
     "text": [
      "Subset edges:\n"
     ]
    },
    {
     "data": {
      "text/plain": [
       "EdgeDataView([(2, 1), (2, 3), ('n', 3)])"
      ]
     },
     "execution_count": 149,
     "metadata": {},
     "output_type": "execute_result"
    }
   ],
   "source": [
    "## get edges from a subset of list of nodes\n",
    "print('Subset edges:')\n",
    "G.edges([2,'n'])"
   ]
  },
  {
   "cell_type": "code",
   "execution_count": 150,
   "metadata": {},
   "outputs": [
    {
     "name": "stdout",
     "output_type": "stream",
     "text": [
      "Subset degree:\n"
     ]
    },
    {
     "data": {
      "text/plain": [
       "DegreeView({2: 2, 'n': 1})"
      ]
     },
     "execution_count": 150,
     "metadata": {},
     "output_type": "execute_result"
    }
   ],
   "source": [
    "## get degree from a subset of all nodes\n",
    "print('Subset degree:')\n",
    "G.degree([2,'n'])"
   ]
  },
  {
   "cell_type": "code",
   "execution_count": 151,
   "metadata": {},
   "outputs": [],
   "source": [
    "# change attributes of edges\n",
    "G['n'][3]['color'] = 'blue'\n",
    "G.edges[1,2]['color'] = 'yellow'"
   ]
  },
  {
   "cell_type": "code",
   "execution_count": 152,
   "metadata": {},
   "outputs": [
    {
     "name": "stdout",
     "output_type": "stream",
     "text": [
      "1 2 {'color': 'yellow'}\n",
      "1 3 {}\n",
      "2 1 {'color': 'yellow'}\n",
      "2 3 {'weight': 0.65}\n",
      "3 1 {}\n",
      "3 n {'color': 'blue'}\n",
      "3 2 {'weight': 0.65}\n",
      "n 3 {'color': 'blue'}\n"
     ]
    }
   ],
   "source": [
    "# access attributes of adjacent nodes\n",
    "for n, nbrs in G.adj.items():\n",
    "    for nbr, eattr in nbrs.items():\n",
    "        print(n, nbr, eattr)"
   ]
  },
  {
   "cell_type": "code",
   "execution_count": 153,
   "metadata": {},
   "outputs": [
    {
     "name": "stdout",
     "output_type": "stream",
     "text": [
      "1 2 None\n",
      "1 3 None\n",
      "2 3 0.65\n",
      "3 n None\n"
     ]
    }
   ],
   "source": [
    "# access edges attributes\n",
    "for (u, v, weight) in G.edges.data('weight'):\n",
    "    print(u, v, weight)"
   ]
  },
  {
   "cell_type": "markdown",
   "metadata": {},
   "source": [
    "## Get info"
   ]
  },
  {
   "cell_type": "code",
   "execution_count": 126,
   "metadata": {},
   "outputs": [
    {
     "name": "stdout",
     "output_type": "stream",
     "text": [
      "Graph attributes:\n",
      " {'A': 5}\n",
      "Node attributes:\n",
      " [(1, {'time': '5pm'}), (2, {}), (3, {}), ('n', {}), ('e', {}), ('t', {}), ('x', {})]\n",
      "No. nodes: 7 \n",
      "No. edges: 4\n",
      "Nodes:\n",
      " [1, 2, 3, 'n', 'e', 't', 'x']\n",
      "Edges:\n",
      " [(1, 2), (1, 3), (2, 3), (3, 'n')]\n",
      "Adjacency:\n",
      " {1: {2: {'color': 'yellow'}, 3: {}}, 2: {1: {'color': 'yellow'}, 3: {'weight': 0.65}}, 3: {1: {}, 'n': {'color': 'blue'}, 2: {'weight': 0.65}}, 'n': {3: {'color': 'blue'}}, 'e': {}, 't': {}, 'x': {}}\n",
      "Neighbors:\n",
      " [2, 3]\n",
      "Degree:\n",
      " [(1, 2), (2, 2), (3, 3), ('n', 1), ('e', 0), ('t', 0), ('x', 0)]\n",
      "\n"
     ]
    }
   ],
   "source": [
    "print('Graph attributes:\\n',G.graph)\n",
    "print('Node attributes:\\n',G.nodes.data())\n",
    "print('No. nodes:', G.number_of_nodes(), '\\nNo. edges:', G.number_of_edges())\n",
    "\n",
    "print('Nodes:\\n',G.nodes())\n",
    "print('Edges:\\n',G.edges())\n",
    "\n",
    "print('Adjacency:\\n',G.adj) # shows adjacent nodes and their edges' attributes\n",
    "print('Neighbors:\\n',list(G.neighbors(1))) # get neighbors from node 1\n",
    "print('Degree:\\n',G.degree)\n",
    "\n",
    "\n",
    "print('')"
   ]
  },
  {
   "cell_type": "code",
   "execution_count": 24,
   "metadata": {},
   "outputs": [],
   "source": [
    "# clear graph\n",
    "G.clear()"
   ]
  },
  {
   "cell_type": "markdown",
   "metadata": {},
   "source": [
    "## Directed Graphs"
   ]
  },
  {
   "cell_type": "code",
   "execution_count": 136,
   "metadata": {},
   "outputs": [
    {
     "data": {
      "text/plain": [
       "AdjacencyView({1: {2: {'weight': 0.5}}, 2: {1: {'weight': 0.4}, 3: {'weight': 0.4}}, 3: {1: {'weight': 0.75}}})"
      ]
     },
     "execution_count": 136,
     "metadata": {},
     "output_type": "execute_result"
    }
   ],
   "source": [
    "DG = nx.DiGraph()\n",
    "DG.add_weighted_edges_from([(1, 2, 0.5), \n",
    "                            (3, 1, 0.75), \n",
    "                            (2, 1, 0.4),\n",
    "                            (2, 3, 0.4)]) # from 1 to 2, 3 to 1, ...\n",
    "DG.adj"
   ]
  },
  {
   "cell_type": "code",
   "execution_count": 137,
   "metadata": {},
   "outputs": [
    {
     "name": "stdout",
     "output_type": "stream",
     "text": [
      "Degree outgoing edges:\n",
      " 0.5\n",
      "Degree all edges:\n",
      " 1.65\n"
     ]
    }
   ],
   "source": [
    "print('Degree outgoing edges:\\n',DG.out_degree(1, weight='weight'))\n",
    "print('Degree all edges:\\n',DG.degree(1, weight='weight'))"
   ]
  },
  {
   "cell_type": "code",
   "execution_count": 138,
   "metadata": {},
   "outputs": [
    {
     "name": "stdout",
     "output_type": "stream",
     "text": [
      "Successors:\n",
      " [1, 3]\n"
     ]
    }
   ],
   "source": [
    "print('Successors:\\n',list(DG.successors(2)))"
   ]
  },
  {
   "cell_type": "code",
   "execution_count": 139,
   "metadata": {},
   "outputs": [
    {
     "name": "stdout",
     "output_type": "stream",
     "text": [
      "Neighbors:\n",
      " [1, 3]\n"
     ]
    }
   ],
   "source": [
    "print('Neighbors:\\n',list(DG.neighbors(2)))"
   ]
  },
  {
   "cell_type": "code",
   "execution_count": 143,
   "metadata": {},
   "outputs": [
    {
     "data": {
      "text/plain": [
       "AdjacencyView({1: {2: {'weight': 0.4}, 3: {'weight': 0.75}}, 2: {1: {'weight': 0.4}, 3: {'weight': 0.4}}, 3: {2: {'weight': 0.4}, 1: {'weight': 0.75}}})"
      ]
     },
     "execution_count": 143,
     "metadata": {},
     "output_type": "execute_result"
    }
   ],
   "source": [
    "# transform to undirected\n",
    "H = DG.to_undirected()\n",
    "H.adj"
   ]
  },
  {
   "cell_type": "markdown",
   "metadata": {},
   "source": [
    "## Functions\n",
    "### Operations"
   ]
  },
  {
   "cell_type": "markdown",
   "metadata": {},
   "source": [
    "```python\n",
    "subgraph(G, nbunch)      - induced subgraph view of G on nodes in nbunch\n",
    "union(G1,G2)             - graph union\n",
    "disjoint_union(G1,G2)    - graph union assuming all nodes are different\n",
    "cartesian_product(G1,G2) - return Cartesian product graph\n",
    "compose(G1,G2)           - combine graphs identifying nodes common to both\n",
    "complement(G)            - graph complement\n",
    "create_empty_copy(G)     - return an empty copy of the same graph class\n",
    "to_undirected(G)         - return an undirected representation of G\n",
    "to_directed(G)           - return a directed representation of G\n",
    "```"
   ]
  },
  {
   "cell_type": "markdown",
   "metadata": {},
   "source": [
    "### Measures\n",
    "```python\n",
    "nx.clustering(G)         - return clustering coefficients\n",
    "```"
   ]
  },
  {
   "cell_type": "markdown",
   "metadata": {},
   "source": [
    "### Algorithms\n",
    "[link](https://networkx.github.io/documentation/latest/reference/algorithms/index.html)\n",
    "\n",
    "- approximations and heuristics\n",
    "```python\n",
    "dict(nx.all_pairs_shortest_path(G)) - returns dictionary for each node and the shortest path to get to the rest\n",
    "```\n",
    "- assortativity\n",
    "- asteroidal\n",
    "- bipartite\n",
    "- boundary\n",
    "- bridges\n",
    "- centrality"
   ]
  },
  {
   "cell_type": "code",
   "execution_count": 189,
   "metadata": {},
   "outputs": [
    {
     "data": {
      "text/plain": [
       "['__builtins__',\n",
       " '__cached__',\n",
       " '__doc__',\n",
       " '__file__',\n",
       " '__loader__',\n",
       " '__name__',\n",
       " '__package__',\n",
       " '__path__',\n",
       " '__spec__',\n",
       " 'approximate_current_flow_betweenness_centrality',\n",
       " 'betweenness',\n",
       " 'betweenness_centrality',\n",
       " 'betweenness_centrality_source',\n",
       " 'betweenness_centrality_subset',\n",
       " 'betweenness_subset',\n",
       " 'closeness',\n",
       " 'closeness_centrality',\n",
       " 'communicability_betweenness_centrality',\n",
       " 'current_flow_betweenness',\n",
       " 'current_flow_betweenness_centrality',\n",
       " 'current_flow_betweenness_centrality_subset',\n",
       " 'current_flow_betweenness_subset',\n",
       " 'current_flow_closeness',\n",
       " 'current_flow_closeness_centrality',\n",
       " 'degree_alg',\n",
       " 'degree_centrality',\n",
       " 'dispersion',\n",
       " 'edge_betweenness',\n",
       " 'edge_betweenness_centrality',\n",
       " 'edge_betweenness_centrality_subset',\n",
       " 'edge_current_flow_betweenness_centrality',\n",
       " 'edge_current_flow_betweenness_centrality_subset',\n",
       " 'edge_load_centrality',\n",
       " 'eigenvector',\n",
       " 'eigenvector_centrality',\n",
       " 'eigenvector_centrality_numpy',\n",
       " 'estrada_index',\n",
       " 'flow_matrix',\n",
       " 'global_reaching_centrality',\n",
       " 'group',\n",
       " 'group_betweenness_centrality',\n",
       " 'group_closeness_centrality',\n",
       " 'group_degree_centrality',\n",
       " 'group_in_degree_centrality',\n",
       " 'group_out_degree_centrality',\n",
       " 'harmonic',\n",
       " 'harmonic_centrality',\n",
       " 'in_degree_centrality',\n",
       " 'incremental_closeness_centrality',\n",
       " 'information_centrality',\n",
       " 'katz',\n",
       " 'katz_centrality',\n",
       " 'katz_centrality_numpy',\n",
       " 'load',\n",
       " 'load_centrality',\n",
       " 'local_reaching_centrality',\n",
       " 'out_degree_centrality',\n",
       " 'percolation',\n",
       " 'percolation_centrality',\n",
       " 'reaching',\n",
       " 'second_order',\n",
       " 'second_order_centrality',\n",
       " 'subgraph_alg',\n",
       " 'subgraph_centrality',\n",
       " 'subgraph_centrality_exp',\n",
       " 'voterank',\n",
       " 'voterank_alg']"
      ]
     },
     "execution_count": 189,
     "metadata": {},
     "output_type": "execute_result"
    }
   ],
   "source": [
    "dir(nx.algorithms.centrality)"
   ]
  },
  {
   "cell_type": "markdown",
   "metadata": {},
   "source": [
    "- chains\n",
    "- chordal\n",
    "- clique"
   ]
  },
  {
   "cell_type": "code",
   "execution_count": null,
   "metadata": {},
   "outputs": [],
   "source": []
  },
  {
   "cell_type": "markdown",
   "metadata": {},
   "source": [
    "- clustering\n",
    "- coloring\n",
    "- communicability\n",
    "- communities\n",
    "- components\n",
    "- connectivity\n",
    "- cores\n",
    "- covering\n",
    "- cycles\n",
    "- cuts\n",
    "- directed acyclic graphs\n",
    "- distance measures\n",
    "- distance-regular graphs\n",
    "- dominance\n",
    "- dominating sets\n",
    "- efficiency\n",
    "- eulerian"
   ]
  },
  {
   "cell_type": "markdown",
   "metadata": {},
   "source": [
    "## Generators"
   ]
  },
  {
   "cell_type": "code",
   "execution_count": 159,
   "metadata": {},
   "outputs": [],
   "source": [
    "# classic graphs\n",
    "petersen = nx.petersen_graph()\n",
    "tutte = nx.tutte_graph()\n",
    "maze = nx.sedgewick_maze_graph()\n",
    "tet = nx.tetrahedral_graph()"
   ]
  },
  {
   "cell_type": "code",
   "execution_count": 160,
   "metadata": {},
   "outputs": [],
   "source": [
    "# simple graphs\n",
    "K_5 = nx.complete_graph(5)\n",
    "K_3_5 = nx.complete_bipartite_graph(3, 5)\n",
    "barbell = nx.barbell_graph(10, 10)\n",
    "lollipop = nx.lollipop_graph(10, 20)"
   ]
  },
  {
   "cell_type": "code",
   "execution_count": 161,
   "metadata": {},
   "outputs": [],
   "source": [
    "# stochastic graph generators\n",
    "er = nx.erdos_renyi_graph(100, 0.15)\n",
    "ws = nx.watts_strogatz_graph(30, 3, 0.1)\n",
    "ba = nx.barabasi_albert_graph(100, 5)\n",
    "red = nx.random_lobster(100, 0.9, 0.9)"
   ]
  },
  {
   "cell_type": "code",
   "execution_count": 162,
   "metadata": {},
   "outputs": [],
   "source": [
    "## save and load\n",
    "nx.write_gml(red, '../tmp/red.gml')\n",
    "## other options are: \n",
    "## edge list, adjacency list, GML, \n",
    "## GraphML, pickle, LEDA"
   ]
  },
  {
   "cell_type": "code",
   "execution_count": 164,
   "metadata": {},
   "outputs": [
    {
     "name": "stdout",
     "output_type": "stream",
     "text": [
      "graph [\n",
      "  node [\n",
      "    id 0\n",
      "    label \"0\"\n",
      "  ]\n",
      "  node [\n",
      "    id 1\n",
      "    label \"1\"\n",
      "  ]\n",
      "  node [\n"
     ]
    }
   ],
   "source": [
    "!cat ../tmp/red.gml | head"
   ]
  },
  {
   "cell_type": "code",
   "execution_count": 165,
   "metadata": {},
   "outputs": [],
   "source": [
    "stored_graph = nx.read_gml('../tmp/red.gml')"
   ]
  },
  {
   "cell_type": "markdown",
   "metadata": {},
   "source": [
    "## Visualize"
   ]
  },
  {
   "cell_type": "code",
   "execution_count": 166,
   "metadata": {},
   "outputs": [],
   "source": [
    "import matplotlib.pyplot as plt"
   ]
  },
  {
   "cell_type": "code",
   "execution_count": 179,
   "metadata": {},
   "outputs": [
    {
     "data": {
      "image/png": "[encoded data removed]",
      "text/plain": [
       "<Figure size 720x360 with 6 Axes>"
      ]
     },
     "metadata": {},
     "output_type": "display_data"
    }
   ],
   "source": [
    "plt.figure(figsize=(10,5))\n",
    "\n",
    "G = nx.petersen_graph()\n",
    "\n",
    "options = {\n",
    "     'node_color': 'black',\n",
    "     'node_size': 100,\n",
    "     'width': 3,\n",
    "}\n",
    "\n",
    "plt.subplot(231)\n",
    "nx.draw(G, with_labels=True, font_weight='bold')\n",
    "plt.title('default')\n",
    "\n",
    "plt.subplot(232)\n",
    "nx.draw_shell(G, nlist=[range(5, 10), range(5)], with_labels=True, font_weight='bold')\n",
    "plt.title('shell')\n",
    "\n",
    "plt.subplot(233)\n",
    "nx.draw_random(G, **options)\n",
    "plt.title('random')\n",
    "\n",
    "plt.subplot(234)\n",
    "nx.draw_circular(G, **options)\n",
    "plt.title('circular')\n",
    "\n",
    "plt.subplot(235)\n",
    "nx.draw_spectral(G, **options)\n",
    "plt.title('spectral')\n",
    "\n",
    "plt.subplot(236)\n",
    "nx.draw_shell(G, nlist=[range(5,10), range(5)], **options)\n",
    "plt.title('shell subset')\n",
    "\n",
    "plt.show()"
   ]
  },
  {
   "cell_type": "code",
   "execution_count": 184,
   "metadata": {},
   "outputs": [
    {
     "data": {
      "image/png": "[encoded data removed]",
      "text/plain": [
       "<Figure size 432x288 with 1 Axes>"
      ]
     },
     "metadata": {},
     "output_type": "display_data"
    }
   ],
   "source": [
    "nx.draw_shell(G, nlist=[range(5,10), range(5)], **options)\n",
    "plt.savefig(\"../tmp/path.png\")"
   ]
  },
  {
   "cell_type": "code",
   "execution_count": null,
   "metadata": {},
   "outputs": [],
   "source": []
  }
 ],
 "metadata": {
  "kernelspec": {
   "display_name": "Python 3",
   "language": "python",
   "name": "python3"
  },
  "language_info": {
   "codemirror_mode": {
    "name": "ipython",
    "version": 3
   },
   "file_extension": ".py",
   "mimetype": "text/x-python",
   "name": "python",
   "nbconvert_exporter": "python",
   "pygments_lexer": "ipython3",
   "version": "3.8.2"
  }
 },
 "nbformat": 4,
 "nbformat_minor": 4
}
